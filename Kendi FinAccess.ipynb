{
 "cells": [
  {
   "cell_type": "code",
   "execution_count": 1,
   "metadata": {},
   "outputs": [],
   "source": [
    "#importing necessary libraries\n",
    "import numpy as np\n",
    "import pandas as pd\n",
    "import matplotlib.pyplot as plt\n",
    "import seaborn as sns"
   ]
  },
  {
   "cell_type": "code",
   "execution_count": 2,
   "metadata": {},
   "outputs": [
    {
     "data": {
      "text/html": [
       "<div>\n",
       "<style scoped>\n",
       "    .dataframe tbody tr th:only-of-type {\n",
       "        vertical-align: middle;\n",
       "    }\n",
       "\n",
       "    .dataframe tbody tr th {\n",
       "        vertical-align: top;\n",
       "    }\n",
       "\n",
       "    .dataframe thead th {\n",
       "        text-align: right;\n",
       "    }\n",
       "</style>\n",
       "<table border=\"1\" class=\"dataframe\">\n",
       "  <thead>\n",
       "    <tr style=\"text-align: right;\">\n",
       "      <th></th>\n",
       "      <th>Residence</th>\n",
       "      <th>Household Size</th>\n",
       "      <th>Resp</th>\n",
       "      <th>Age</th>\n",
       "      <th>Education</th>\n",
       "      <th>Marital</th>\n",
       "      <th>Income</th>\n",
       "      <th>Save_Micro</th>\n",
       "      <th>Sav_Mobank</th>\n",
       "      <th>Sav_Mob</th>\n",
       "      <th>...</th>\n",
       "      <th>Light_Type</th>\n",
       "      <th>Main_Water</th>\n",
       "      <th>Toilet_Type</th>\n",
       "      <th>Bread</th>\n",
       "      <th>Fish</th>\n",
       "      <th>Banana</th>\n",
       "      <th>Towels</th>\n",
       "      <th>Flask</th>\n",
       "      <th>Own_Land</th>\n",
       "      <th>House_0ship</th>\n",
       "    </tr>\n",
       "  </thead>\n",
       "  <tbody>\n",
       "    <tr>\n",
       "      <th>0</th>\n",
       "      <td>0</td>\n",
       "      <td>6</td>\n",
       "      <td>0</td>\n",
       "      <td>49</td>\n",
       "      <td>2</td>\n",
       "      <td>3</td>\n",
       "      <td>0</td>\n",
       "      <td>0</td>\n",
       "      <td>2</td>\n",
       "      <td>2</td>\n",
       "      <td>...</td>\n",
       "      <td>3</td>\n",
       "      <td>7</td>\n",
       "      <td>4</td>\n",
       "      <td>1</td>\n",
       "      <td>0</td>\n",
       "      <td>0</td>\n",
       "      <td>0</td>\n",
       "      <td>0</td>\n",
       "      <td>0</td>\n",
       "      <td>5</td>\n",
       "    </tr>\n",
       "    <tr>\n",
       "      <th>1</th>\n",
       "      <td>0</td>\n",
       "      <td>7</td>\n",
       "      <td>0</td>\n",
       "      <td>43</td>\n",
       "      <td>2</td>\n",
       "      <td>3</td>\n",
       "      <td>1</td>\n",
       "      <td>0</td>\n",
       "      <td>0</td>\n",
       "      <td>2</td>\n",
       "      <td>...</td>\n",
       "      <td>0</td>\n",
       "      <td>7</td>\n",
       "      <td>3</td>\n",
       "      <td>0</td>\n",
       "      <td>0</td>\n",
       "      <td>0</td>\n",
       "      <td>0</td>\n",
       "      <td>0</td>\n",
       "      <td>0</td>\n",
       "      <td>1</td>\n",
       "    </tr>\n",
       "    <tr>\n",
       "      <th>2</th>\n",
       "      <td>0</td>\n",
       "      <td>5</td>\n",
       "      <td>0</td>\n",
       "      <td>55</td>\n",
       "      <td>1</td>\n",
       "      <td>3</td>\n",
       "      <td>0</td>\n",
       "      <td>0</td>\n",
       "      <td>0</td>\n",
       "      <td>2</td>\n",
       "      <td>...</td>\n",
       "      <td>3</td>\n",
       "      <td>7</td>\n",
       "      <td>4</td>\n",
       "      <td>1</td>\n",
       "      <td>0</td>\n",
       "      <td>1</td>\n",
       "      <td>1</td>\n",
       "      <td>0</td>\n",
       "      <td>1</td>\n",
       "      <td>0</td>\n",
       "    </tr>\n",
       "    <tr>\n",
       "      <th>3</th>\n",
       "      <td>0</td>\n",
       "      <td>12</td>\n",
       "      <td>1</td>\n",
       "      <td>55</td>\n",
       "      <td>0</td>\n",
       "      <td>3</td>\n",
       "      <td>0</td>\n",
       "      <td>0</td>\n",
       "      <td>0</td>\n",
       "      <td>0</td>\n",
       "      <td>...</td>\n",
       "      <td>2</td>\n",
       "      <td>1</td>\n",
       "      <td>4</td>\n",
       "      <td>1</td>\n",
       "      <td>1</td>\n",
       "      <td>1</td>\n",
       "      <td>0</td>\n",
       "      <td>1</td>\n",
       "      <td>1</td>\n",
       "      <td>0</td>\n",
       "    </tr>\n",
       "    <tr>\n",
       "      <th>4</th>\n",
       "      <td>0</td>\n",
       "      <td>4</td>\n",
       "      <td>0</td>\n",
       "      <td>63</td>\n",
       "      <td>0</td>\n",
       "      <td>3</td>\n",
       "      <td>7</td>\n",
       "      <td>0</td>\n",
       "      <td>0</td>\n",
       "      <td>0</td>\n",
       "      <td>...</td>\n",
       "      <td>3</td>\n",
       "      <td>7</td>\n",
       "      <td>0</td>\n",
       "      <td>0</td>\n",
       "      <td>0</td>\n",
       "      <td>0</td>\n",
       "      <td>0</td>\n",
       "      <td>0</td>\n",
       "      <td>0</td>\n",
       "      <td>1</td>\n",
       "    </tr>\n",
       "  </tbody>\n",
       "</table>\n",
       "<p>5 rows × 72 columns</p>\n",
       "</div>"
      ],
      "text/plain": [
       "   Residence  Household Size  Resp  Age  Education  Marital  Income  \\\n",
       "0          0               6     0   49          2        3       0   \n",
       "1          0               7     0   43          2        3       1   \n",
       "2          0               5     0   55          1        3       0   \n",
       "3          0              12     1   55          0        3       0   \n",
       "4          0               4     0   63          0        3       7   \n",
       "\n",
       "   Save_Micro  Sav_Mobank  Sav_Mob  ...  Light_Type  Main_Water  Toilet_Type  \\\n",
       "0           0           2        2  ...           3           7            4   \n",
       "1           0           0        2  ...           0           7            3   \n",
       "2           0           0        2  ...           3           7            4   \n",
       "3           0           0        0  ...           2           1            4   \n",
       "4           0           0        0  ...           3           7            0   \n",
       "\n",
       "   Bread  Fish  Banana  Towels  Flask  Own_Land  House_0ship  \n",
       "0      1     0       0       0      0         0            5  \n",
       "1      0     0       0       0      0         0            1  \n",
       "2      1     0       1       1      0         1            0  \n",
       "3      1     1       1       0      1         1            0  \n",
       "4      0     0       0       0      0         0            1  \n",
       "\n",
       "[5 rows x 72 columns]"
      ]
     },
     "execution_count": 2,
     "metadata": {},
     "output_type": "execute_result"
    }
   ],
   "source": [
    "#Loading the dataset\n",
    "data=pd.read_excel(\"finaccess.xls\")\n",
    "data.head()"
   ]
  },
  {
   "cell_type": "code",
   "execution_count": 3,
   "metadata": {},
   "outputs": [
    {
     "name": "stdout",
     "output_type": "stream",
     "text": [
      "(8669, 72)\n"
     ]
    }
   ],
   "source": [
    "print(data.shape)"
   ]
  },
  {
   "cell_type": "code",
   "execution_count": 4,
   "metadata": {},
   "outputs": [
    {
     "data": {
      "text/plain": [
       "Residence         int64\n",
       "Household Size    int64\n",
       "Resp              int64\n",
       "Age               int64\n",
       "Education         int64\n",
       "                  ...  \n",
       "Banana            int64\n",
       "Towels            int64\n",
       "Flask             int64\n",
       "Own_Land          int64\n",
       "House_0ship       int64\n",
       "Length: 72, dtype: object"
      ]
     },
     "execution_count": 4,
     "metadata": {},
     "output_type": "execute_result"
    }
   ],
   "source": [
    "#Check for dtypes\n",
    "data.dtypes"
   ]
  },
  {
   "cell_type": "code",
   "execution_count": 5,
   "metadata": {},
   "outputs": [
    {
     "data": {
      "text/plain": [
       "Residence         0\n",
       "Household Size    0\n",
       "Resp              0\n",
       "Age               0\n",
       "Education         0\n",
       "                 ..\n",
       "Banana            0\n",
       "Towels            0\n",
       "Flask             0\n",
       "Own_Land          0\n",
       "House_0ship       0\n",
       "Length: 72, dtype: int64"
      ]
     },
     "execution_count": 5,
     "metadata": {},
     "output_type": "execute_result"
    }
   ],
   "source": [
    "#check for missing values \n",
    "data.isnull().sum()"
   ]
  },
  {
   "cell_type": "code",
   "execution_count": 6,
   "metadata": {},
   "outputs": [
    {
     "data": {
      "text/plain": [
       "Index([     'Residence', 'Household Size',           'Resp',            'Age',\n",
       "            'Education',        'Marital',         'Income',     'Save_Micro',\n",
       "           'Sav_Mobank',        'Sav_Mob',       'Sav_Coop',     'Save_Chama',\n",
       "          'Sav_Friends',    'Sav_FamKeep',     'Sav_Secret',        'Mob_M1y',\n",
       "             'Mob_Bank',      'Loan_Bank',    'Loan_Mobank',      'Loan_Coop',\n",
       "           'Loan_Micro',       'Loan_Shy',     'Loan_Chama',       'Loan_Gov',\n",
       "             'Loan_Emp',    'Loan_Friend',      'Loan_Shop',    'Credit_Shop',\n",
       "            'Digi_Loan',      'Loan_Agri',  'Hire_Purchase',     'Loan_House',\n",
       "           'Loan_Gov.1',       'Curr_Acc',       'Post_Acc',        'Inv_Acc',\n",
       "          'Everday_Acc',        'Bank_OD',       'Atm_Card',    'Credit_Card',\n",
       "               'Shares',        'T_Bills',   'Mutual_Funds',        'Car_Ins',\n",
       "             'Home_Ins',       'Crop_Ins',       'Live_Ins',           'NHIF',\n",
       "              'Med-Ins',       'Life_Ins',        'Edu_Ins',      'Other_Ins',\n",
       "                 'NSSF',                6,         'Mbao_6',          'Ind_6',\n",
       "                  '9_6',         'Crypto', 'Dwelling_ type',     'Floor_Type',\n",
       "            'Wall_Type',      'Fuel_Type',     'Light_Type',     'Main_Water',\n",
       "          'Toilet_Type',          'Bread',           'Fish',         'Banana',\n",
       "               'Towels',          'Flask',       'Own_Land',    'House_0ship'],\n",
       "      dtype='object')"
      ]
     },
     "execution_count": 6,
     "metadata": {},
     "output_type": "execute_result"
    }
   ],
   "source": [
    "# Columns Consistency\n",
    "data.columns"
   ]
  },
  {
   "cell_type": "code",
   "execution_count": 7,
   "metadata": {},
   "outputs": [
    {
     "data": {
      "text/plain": [
       "Light_Type    object\n",
       "dtype: object"
      ]
     },
     "execution_count": 7,
     "metadata": {},
     "output_type": "execute_result"
    }
   ],
   "source": [
    "data.dtypes[data.dtypes != 'int64']"
   ]
  },
  {
   "cell_type": "code",
   "execution_count": 8,
   "metadata": {},
   "outputs": [
    {
     "data": {
      "text/plain": [
       "0"
      ]
     },
     "execution_count": 8,
     "metadata": {},
     "output_type": "execute_result"
    }
   ],
   "source": [
    "data1=data['Light_Type']\n",
    "data1.isnull().sum()"
   ]
  },
  {
   "cell_type": "code",
   "execution_count": 9,
   "metadata": {},
   "outputs": [
    {
     "data": {
      "text/html": [
       "<div>\n",
       "<style scoped>\n",
       "    .dataframe tbody tr th:only-of-type {\n",
       "        vertical-align: middle;\n",
       "    }\n",
       "\n",
       "    .dataframe tbody tr th {\n",
       "        vertical-align: top;\n",
       "    }\n",
       "\n",
       "    .dataframe thead th {\n",
       "        text-align: right;\n",
       "    }\n",
       "</style>\n",
       "<table border=\"1\" class=\"dataframe\">\n",
       "  <thead>\n",
       "    <tr style=\"text-align: right;\">\n",
       "      <th></th>\n",
       "      <th>Residence</th>\n",
       "      <th>Household Size</th>\n",
       "      <th>Resp</th>\n",
       "      <th>Age</th>\n",
       "      <th>Education</th>\n",
       "      <th>Marital</th>\n",
       "      <th>Income</th>\n",
       "      <th>Save_Micro</th>\n",
       "      <th>Sav_Mobank</th>\n",
       "      <th>Sav_Mob</th>\n",
       "      <th>...</th>\n",
       "      <th>Fuel_Type</th>\n",
       "      <th>Main_Water</th>\n",
       "      <th>Toilet_Type</th>\n",
       "      <th>Bread</th>\n",
       "      <th>Fish</th>\n",
       "      <th>Banana</th>\n",
       "      <th>Towels</th>\n",
       "      <th>Flask</th>\n",
       "      <th>Own_Land</th>\n",
       "      <th>House_0ship</th>\n",
       "    </tr>\n",
       "  </thead>\n",
       "  <tbody>\n",
       "    <tr>\n",
       "      <th>0</th>\n",
       "      <td>0</td>\n",
       "      <td>6</td>\n",
       "      <td>0</td>\n",
       "      <td>49</td>\n",
       "      <td>2</td>\n",
       "      <td>3</td>\n",
       "      <td>0</td>\n",
       "      <td>0</td>\n",
       "      <td>2</td>\n",
       "      <td>2</td>\n",
       "      <td>...</td>\n",
       "      <td>0</td>\n",
       "      <td>7</td>\n",
       "      <td>4</td>\n",
       "      <td>1</td>\n",
       "      <td>0</td>\n",
       "      <td>0</td>\n",
       "      <td>0</td>\n",
       "      <td>0</td>\n",
       "      <td>0</td>\n",
       "      <td>5</td>\n",
       "    </tr>\n",
       "    <tr>\n",
       "      <th>1</th>\n",
       "      <td>0</td>\n",
       "      <td>7</td>\n",
       "      <td>0</td>\n",
       "      <td>43</td>\n",
       "      <td>2</td>\n",
       "      <td>3</td>\n",
       "      <td>1</td>\n",
       "      <td>0</td>\n",
       "      <td>0</td>\n",
       "      <td>2</td>\n",
       "      <td>...</td>\n",
       "      <td>0</td>\n",
       "      <td>7</td>\n",
       "      <td>3</td>\n",
       "      <td>0</td>\n",
       "      <td>0</td>\n",
       "      <td>0</td>\n",
       "      <td>0</td>\n",
       "      <td>0</td>\n",
       "      <td>0</td>\n",
       "      <td>1</td>\n",
       "    </tr>\n",
       "    <tr>\n",
       "      <th>2</th>\n",
       "      <td>0</td>\n",
       "      <td>5</td>\n",
       "      <td>0</td>\n",
       "      <td>55</td>\n",
       "      <td>1</td>\n",
       "      <td>3</td>\n",
       "      <td>0</td>\n",
       "      <td>0</td>\n",
       "      <td>0</td>\n",
       "      <td>2</td>\n",
       "      <td>...</td>\n",
       "      <td>0</td>\n",
       "      <td>7</td>\n",
       "      <td>4</td>\n",
       "      <td>1</td>\n",
       "      <td>0</td>\n",
       "      <td>1</td>\n",
       "      <td>1</td>\n",
       "      <td>0</td>\n",
       "      <td>1</td>\n",
       "      <td>0</td>\n",
       "    </tr>\n",
       "    <tr>\n",
       "      <th>3</th>\n",
       "      <td>0</td>\n",
       "      <td>12</td>\n",
       "      <td>1</td>\n",
       "      <td>55</td>\n",
       "      <td>0</td>\n",
       "      <td>3</td>\n",
       "      <td>0</td>\n",
       "      <td>0</td>\n",
       "      <td>0</td>\n",
       "      <td>0</td>\n",
       "      <td>...</td>\n",
       "      <td>6</td>\n",
       "      <td>1</td>\n",
       "      <td>4</td>\n",
       "      <td>1</td>\n",
       "      <td>1</td>\n",
       "      <td>1</td>\n",
       "      <td>0</td>\n",
       "      <td>1</td>\n",
       "      <td>1</td>\n",
       "      <td>0</td>\n",
       "    </tr>\n",
       "    <tr>\n",
       "      <th>4</th>\n",
       "      <td>0</td>\n",
       "      <td>4</td>\n",
       "      <td>0</td>\n",
       "      <td>63</td>\n",
       "      <td>0</td>\n",
       "      <td>3</td>\n",
       "      <td>7</td>\n",
       "      <td>0</td>\n",
       "      <td>0</td>\n",
       "      <td>0</td>\n",
       "      <td>...</td>\n",
       "      <td>0</td>\n",
       "      <td>7</td>\n",
       "      <td>0</td>\n",
       "      <td>0</td>\n",
       "      <td>0</td>\n",
       "      <td>0</td>\n",
       "      <td>0</td>\n",
       "      <td>0</td>\n",
       "      <td>0</td>\n",
       "      <td>1</td>\n",
       "    </tr>\n",
       "  </tbody>\n",
       "</table>\n",
       "<p>5 rows × 71 columns</p>\n",
       "</div>"
      ],
      "text/plain": [
       "   Residence  Household Size  Resp  Age  Education  Marital  Income  \\\n",
       "0          0               6     0   49          2        3       0   \n",
       "1          0               7     0   43          2        3       1   \n",
       "2          0               5     0   55          1        3       0   \n",
       "3          0              12     1   55          0        3       0   \n",
       "4          0               4     0   63          0        3       7   \n",
       "\n",
       "   Save_Micro  Sav_Mobank  Sav_Mob  ...  Fuel_Type  Main_Water  Toilet_Type  \\\n",
       "0           0           2        2  ...          0           7            4   \n",
       "1           0           0        2  ...          0           7            3   \n",
       "2           0           0        2  ...          0           7            4   \n",
       "3           0           0        0  ...          6           1            4   \n",
       "4           0           0        0  ...          0           7            0   \n",
       "\n",
       "   Bread  Fish  Banana  Towels  Flask  Own_Land  House_0ship  \n",
       "0      1     0       0       0      0         0            5  \n",
       "1      0     0       0       0      0         0            1  \n",
       "2      1     0       1       1      0         1            0  \n",
       "3      1     1       1       0      1         1            0  \n",
       "4      0     0       0       0      0         0            1  \n",
       "\n",
       "[5 rows x 71 columns]"
      ]
     },
     "execution_count": 9,
     "metadata": {},
     "output_type": "execute_result"
    }
   ],
   "source": [
    "#dropping the Light_type column\n",
    "data1= data.drop(['Light_Type'], axis = 1)\n",
    "data1.head()"
   ]
  },
  {
   "cell_type": "code",
   "execution_count": 10,
   "metadata": {},
   "outputs": [
    {
     "data": {
      "text/plain": [
       "\"%%time\\nfrom sklearn.cluster import KMeans\\nxfeatures= data1\\n\\nwcss = []\\nfor i in range(1, 5):\\n    km = KMeans(n_clusters = i, init = 'k-means++', max_iter = 300, n_init = 10, random_state = 0)\\n    km.fit(xfeatures)\\n    wcss.append(km.inertia_)\\n    \\nplt.plot(range(1, 5), wcss)\\nplt.title('The Elbow Method', fontsize = 20)\\nplt.xlabel('No. of Clusters')\\nplt.ylabel('wcss')\\nplt.show()\""
      ]
     },
     "execution_count": 10,
     "metadata": {},
     "output_type": "execute_result"
    }
   ],
   "source": [
    "#K-Means before performing PCA\n",
    "\"\"\"%%time\n",
    "from sklearn.cluster import KMeans\n",
    "xfeatures= data1\n",
    "\n",
    "wcss = []\n",
    "for i in range(1, 5):\n",
    "    km = KMeans(n_clusters = i, init = 'k-means++', max_iter = 300, n_init = 10, random_state = 0)\n",
    "    km.fit(xfeatures)\n",
    "    wcss.append(km.inertia_)\n",
    "    \n",
    "plt.plot(range(1, 5), wcss)\n",
    "plt.title('The Elbow Method', fontsize = 20)\n",
    "plt.xlabel('No. of Clusters')\n",
    "plt.ylabel('wcss')\n",
    "plt.show()\"\"\""
   ]
  },
  {
   "cell_type": "code",
   "execution_count": 11,
   "metadata": {},
   "outputs": [
    {
     "name": "stdout",
     "output_type": "stream",
     "text": [
      "(8669, 71)\n"
     ]
    }
   ],
   "source": [
    "print(data1.shape)"
   ]
  },
  {
   "cell_type": "code",
   "execution_count": 12,
   "metadata": {},
   "outputs": [],
   "source": [
    "#Performing Principal Component Analysis\n",
    "#scaling\n",
    "from sklearn.preprocessing import StandardScaler "
   ]
  },
  {
   "cell_type": "code",
   "execution_count": 13,
   "metadata": {},
   "outputs": [
    {
     "data": {
      "text/plain": [
       "StandardScaler()"
      ]
     },
     "execution_count": 13,
     "metadata": {},
     "output_type": "execute_result"
    }
   ],
   "source": [
    "scaler=StandardScaler()\n",
    "scaler.fit(data1)"
   ]
  },
  {
   "cell_type": "code",
   "execution_count": 14,
   "metadata": {},
   "outputs": [],
   "source": [
    "scaled_data=scaler.transform(data1)"
   ]
  },
  {
   "cell_type": "code",
   "execution_count": 15,
   "metadata": {},
   "outputs": [
    {
     "data": {
      "text/plain": [
       "array([[-0.84493701,  0.87249105, -1.16903352, ..., -1.58062829,\n",
       "        -1.11580468,  2.53761109],\n",
       "       [-0.84493701,  1.30319687, -1.16903352, ..., -1.58062829,\n",
       "        -1.11580468, -0.07310548],\n",
       "       [-0.84493701,  0.44178523, -1.16903352, ..., -1.58062829,\n",
       "         0.8103026 , -0.72578463],\n",
       "       ...,\n",
       "       [ 1.18352018, -1.28103805, -1.16903352, ...,  0.63265981,\n",
       "        -1.11580468,  1.2322528 ],\n",
       "       [-0.84493701,  0.01107941,  0.85540747, ...,  0.63265981,\n",
       "         0.8103026 , -0.72578463],\n",
       "       [ 1.18352018, -0.41962641,  0.85540747, ...,  0.63265981,\n",
       "        -1.11580468,  1.2322528 ]])"
      ]
     },
     "execution_count": 15,
     "metadata": {},
     "output_type": "execute_result"
    }
   ],
   "source": [
    "scaled_data"
   ]
  },
  {
   "cell_type": "code",
   "execution_count": 16,
   "metadata": {},
   "outputs": [],
   "source": [
    "from sklearn.decomposition import PCA"
   ]
  },
  {
   "cell_type": "code",
   "execution_count": 17,
   "metadata": {},
   "outputs": [
    {
     "data": {
      "text/plain": [
       "Text(0, 0.5, 'cumulative variance')"
      ]
     },
     "execution_count": 17,
     "metadata": {},
     "output_type": "execute_result"
    },
    {
     "data": {
      "image/png": "[encoded data removed]",
      "text/plain": [
       "<Figure size 432x288 with 1 Axes>"
      ]
     },
     "metadata": {
      "needs_background": "light"
     },
     "output_type": "display_data"
    }
   ],
   "source": [
    "#this heuristic helps us to determine the number of n_components needed \n",
    "pca = PCA().fit(scaled_data)\n",
    "plt.plot(np.cumsum(pca.explained_variance_ratio_))\n",
    "plt.xlabel('number of components')\n",
    "plt.ylabel('cumulative variance')"
   ]
  },
  {
   "cell_type": "code",
   "execution_count": 18,
   "metadata": {},
   "outputs": [],
   "source": [
    "#we need to use around 60 components i.e 95% of the variance\n",
    "pca=PCA(n_components=60)"
   ]
  },
  {
   "cell_type": "code",
   "execution_count": 19,
   "metadata": {},
   "outputs": [
    {
     "data": {
      "text/plain": [
       "PCA(n_components=60)"
      ]
     },
     "execution_count": 19,
     "metadata": {},
     "output_type": "execute_result"
    }
   ],
   "source": [
    "pca.fit(scaled_data)"
   ]
  },
  {
   "cell_type": "code",
   "execution_count": 20,
   "metadata": {},
   "outputs": [],
   "source": [
    "x_pca=pca.transform(scaled_data)"
   ]
  },
  {
   "cell_type": "code",
   "execution_count": 21,
   "metadata": {},
   "outputs": [
    {
     "data": {
      "text/plain": [
       "(8669, 71)"
      ]
     },
     "execution_count": 21,
     "metadata": {},
     "output_type": "execute_result"
    }
   ],
   "source": [
    "scaled_data.shape"
   ]
  },
  {
   "cell_type": "code",
   "execution_count": 22,
   "metadata": {},
   "outputs": [
    {
     "data": {
      "text/plain": [
       "(8669, 60)"
      ]
     },
     "execution_count": 22,
     "metadata": {},
     "output_type": "execute_result"
    }
   ],
   "source": [
    "x_pca.shape"
   ]
  },
  {
   "cell_type": "code",
   "execution_count": 23,
   "metadata": {},
   "outputs": [],
   "source": [
    "#scaled_data"
   ]
  },
  {
   "cell_type": "code",
   "execution_count": 24,
   "metadata": {},
   "outputs": [
    {
     "data": {
      "text/plain": [
       "array([[ 0.42229041,  0.3049797 , -2.13291419, ..., -0.01125212,\n",
       "         0.57226759,  0.51857052],\n",
       "       [-3.53879313,  0.89337238,  0.12514841, ..., -0.38388209,\n",
       "         0.36413068, -0.62683685],\n",
       "       [-2.2465313 ,  1.34957458, -1.11906843, ...,  0.31894796,\n",
       "        -0.06810332, -1.19642693],\n",
       "       ...,\n",
       "       [ 2.46678065, -3.08753916, -0.80463681, ..., -0.1559961 ,\n",
       "         0.02802525,  0.68912137],\n",
       "       [-1.21884201, -0.31934523, -0.13431131, ...,  1.06899454,\n",
       "         0.344143  ,  0.10687373],\n",
       "       [ 2.73992688, -1.90461857, -2.75417996, ...,  0.54385083,\n",
       "         0.50796731,  0.46724837]])"
      ]
     },
     "execution_count": 24,
     "metadata": {},
     "output_type": "execute_result"
    }
   ],
   "source": [
    "x_pca"
   ]
  },
  {
   "cell_type": "code",
   "execution_count": 25,
   "metadata": {},
   "outputs": [
    {
     "data": {
      "image/png": "[encoded data removed]",
      "text/plain": [
       "<Figure size 432x288 with 1 Axes>"
      ]
     },
     "metadata": {
      "needs_background": "light"
     },
     "output_type": "display_data"
    }
   ],
   "source": [
    "#Now we apply K-Means Clustering algorithm\n",
    "\n",
    "from sklearn.cluster import KMeans\n",
    "xfeatures= x_pca\n",
    "\n",
    "wcss = []\n",
    "for i in range(1, 5):\n",
    "    km = KMeans(n_clusters = i, init = 'k-means++', max_iter = 300, n_init = 10, random_state = 0)\n",
    "    km.fit(xfeatures)\n",
    "    wcss.append(km.inertia_)\n",
    "    \n",
    "plt.plot(range(1, 5), wcss)\n",
    "plt.title('The Elbow Method', fontsize = 20)\n",
    "plt.xlabel('No. of Clusters')\n",
    "plt.ylabel('wcss')\n",
    "plt.show()"
   ]
  },
  {
   "cell_type": "code",
   "execution_count": 39,
   "metadata": {},
   "outputs": [],
   "source": [
    "#From the elbow method we identify two clusters\n",
    "#This means that the data has been grouped either into financially underserved or NOT Financially underserved\n",
    "\n",
    "\n",
    "\n"
   ]
  },
  {
   "cell_type": "code",
   "execution_count": 40,
   "metadata": {},
   "outputs": [
    {
     "name": "stdout",
     "output_type": "stream",
     "text": [
      "0.15003645489876608\n",
      "Wall time: 24.1 s\n"
     ]
    }
   ],
   "source": [
    "%%time\n",
    "from sklearn.metrics import silhouette_score\n",
    "\n",
    "kmeans= KMeans(n_clusters=2).fit_predict(x_pca)\n",
    "print(silhouette_score(x_pca,kmeans))"
   ]
  },
  {
   "cell_type": "code",
   "execution_count": null,
   "metadata": {},
   "outputs": [],
   "source": []
  },
  {
   "cell_type": "code",
   "execution_count": null,
   "metadata": {},
   "outputs": [],
   "source": []
  },
  {
   "cell_type": "code",
   "execution_count": null,
   "metadata": {},
   "outputs": [],
   "source": []
  },
  {
   "cell_type": "code",
   "execution_count": null,
   "metadata": {},
   "outputs": [],
   "source": []
  },
  {
   "cell_type": "code",
   "execution_count": null,
   "metadata": {},
   "outputs": [],
   "source": []
  },
  {
   "cell_type": "code",
   "execution_count": null,
   "metadata": {},
   "outputs": [],
   "source": []
  },
  {
   "cell_type": "code",
   "execution_count": null,
   "metadata": {},
   "outputs": [],
   "source": []
  },
  {
   "cell_type": "code",
   "execution_count": null,
   "metadata": {},
   "outputs": [],
   "source": []
  },
  {
   "cell_type": "code",
   "execution_count": null,
   "metadata": {},
   "outputs": [],
   "source": []
  },
  {
   "cell_type": "code",
   "execution_count": null,
   "metadata": {},
   "outputs": [],
   "source": []
  }
 ],
 "metadata": {
  "kernelspec": {
   "display_name": "Python 3",
   "language": "python",
   "name": "python3"
  },
  "language_info": {
   "codemirror_mode": {
    "name": "ipython",
    "version": 3
   },
   "file_extension": ".py",
   "mimetype": "text/x-python",
   "name": "python",
   "nbconvert_exporter": "python",
   "pygments_lexer": "ipython3",
   "version": "3.8.5"
  }
 },
 "nbformat": 4,
 "nbformat_minor": 4
}
